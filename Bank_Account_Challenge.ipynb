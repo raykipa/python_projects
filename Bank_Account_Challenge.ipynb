{
  "nbformat": 4,
  "nbformat_minor": 0,
  "metadata": {
    "colab": {
      "name": "Bank_Account_Challenge.ipynb",
      "provenance": [],
      "authorship_tag": "ABX9TyOYJ9NcKHTrSYuplWebspOX",
      "include_colab_link": true
    },
    "kernelspec": {
      "name": "python3",
      "display_name": "Python 3"
    }
  },
  "cells": [
    {
      "cell_type": "markdown",
      "metadata": {
        "id": "view-in-github",
        "colab_type": "text"
      },
      "source": [
        "<a href=\"https://colab.research.google.com/github/raykipa/python_projects/blob/master/Bank_Account_Challenge.ipynb\" target=\"_parent\"><img src=\"https://colab.research.google.com/assets/colab-badge.svg\" alt=\"Open In Colab\"/></a>"
      ]
    },
    {
      "cell_type": "markdown",
      "metadata": {
        "id": "xaImGAakNifo",
        "colab_type": "text"
      },
      "source": [
        "Create a bank account where you can deposit and withdraw money"
      ]
    },
    {
      "cell_type": "code",
      "metadata": {
        "id": "6dhhroMpNQ70",
        "colab_type": "code",
        "colab": {}
      },
      "source": [
        "#Create a class called BankAccount\n",
        "class BankAccount():\n",
        "  def __init__(self,owner,balance):\n",
        "    self.owner=owner\n",
        "    self.balance=balance\n",
        "  def __str__(self):\n",
        "      return f\"This account belongs to {self.owner} and has balance of {self.balance} Ugandan Shillings\"\n",
        "  def avail_bal(self):\n",
        "    print('Your balance is {}'.format(self.balance))\n",
        "#Create a function for depositing the money\n",
        "  def deposit(self,depo_amount):\n",
        "    self.balance=self.balance+depo_amount\n",
        "    print('You have deposited {} shillings'.format(depo_amount))\n",
        "\n",
        "\n",
        "#Create a function for withdrawing the money\n",
        "  def withdraw(self,withdrw_amount):\n",
        "    if self.balance>=withdrw_amount:\n",
        "      self.balance-withdrw_amount\n",
        "      print('You have withdrawn {} shillings'.format(withdrw_amount))\n",
        "    else:\n",
        "      print(\"You have insufficent balance\")\n",
        "               "
      ],
      "execution_count": 0,
      "outputs": []
    },
    {
      "cell_type": "code",
      "metadata": {
        "id": "iE2tlhm9QGBM",
        "colab_type": "code",
        "colab": {}
      },
      "source": [
        "account1=BankAccount('Doryn',500000)"
      ],
      "execution_count": 0,
      "outputs": []
    },
    {
      "cell_type": "code",
      "metadata": {
        "id": "QTUJZ5BcTZ_j",
        "colab_type": "code",
        "colab": {
          "base_uri": "https://localhost:8080/",
          "height": 34
        },
        "outputId": "58210eb0-4358-4ae5-9caf-3f602799b7e9"
      },
      "source": [
        "print(account1)"
      ],
      "execution_count": 31,
      "outputs": [
        {
          "output_type": "stream",
          "text": [
            "This account belongs to Ruby and has balance of 500000\n"
          ],
          "name": "stdout"
        }
      ]
    },
    {
      "cell_type": "code",
      "metadata": {
        "id": "_mXvZVHlTrUC",
        "colab_type": "code",
        "colab": {
          "base_uri": "https://localhost:8080/",
          "height": 34
        },
        "outputId": "b40431d3-a19b-4a47-d1bb-eaa620859fb5"
      },
      "source": [
        "#onwer of account\n",
        "account1.owner"
      ],
      "execution_count": 33,
      "outputs": [
        {
          "output_type": "execute_result",
          "data": {
            "text/plain": [
              "'Ruby'"
            ]
          },
          "metadata": {
            "tags": []
          },
          "execution_count": 33
        }
      ]
    },
    {
      "cell_type": "code",
      "metadata": {
        "id": "wJjC34pRREWh",
        "colab_type": "code",
        "colab": {
          "base_uri": "https://localhost:8080/",
          "height": 34
        },
        "outputId": "8b485e7f-f877-459b-c67e-185b383d13bb"
      },
      "source": [
        "#Making a deposit\n",
        "account1.deposit(100000)"
      ],
      "execution_count": 22,
      "outputs": [
        {
          "output_type": "stream",
          "text": [
            "You have deposited 100000 shillings\n"
          ],
          "name": "stdout"
        }
      ]
    },
    {
      "cell_type": "code",
      "metadata": {
        "id": "DHAUySjnRLn4",
        "colab_type": "code",
        "colab": {
          "base_uri": "https://localhost:8080/",
          "height": 34
        },
        "outputId": "bfd41cd8-bad4-4272-fd7b-559418344234"
      },
      "source": [
        "account1.avail_bal()"
      ],
      "execution_count": 25,
      "outputs": [
        {
          "output_type": "stream",
          "text": [
            "Your balance is 550000\n"
          ],
          "name": "stdout"
        }
      ]
    },
    {
      "cell_type": "code",
      "metadata": {
        "id": "hrvaLyj8Rq3-",
        "colab_type": "code",
        "colab": {
          "base_uri": "https://localhost:8080/",
          "height": 34
        },
        "outputId": "849e1f19-085b-4966-b996-fa3d35523ddf"
      },
      "source": [
        "#Making a withdrawal\n",
        "account1.withdraw(50000)"
      ],
      "execution_count": 24,
      "outputs": [
        {
          "output_type": "stream",
          "text": [
            "You have withdrawn 50000 shillings\n"
          ],
          "name": "stdout"
        }
      ]
    },
    {
      "cell_type": "code",
      "metadata": {
        "id": "Pa_qLht1R9o5",
        "colab_type": "code",
        "colab": {
          "base_uri": "https://localhost:8080/",
          "height": 34
        },
        "outputId": "ae9b978e-bcd5-4542-abb8-1f530f0eea59"
      },
      "source": [
        "#Trying to make a withdrawal that exceeds available balance\n",
        "account1.withdraw(700000)"
      ],
      "execution_count": 37,
      "outputs": [
        {
          "output_type": "stream",
          "text": [
            "You have no available balance\n"
          ],
          "name": "stdout"
        }
      ]
    },
    {
      "cell_type": "code",
      "metadata": {
        "id": "NSwKVyH5U9mE",
        "colab_type": "code",
        "colab": {}
      },
      "source": [
        ""
      ],
      "execution_count": 0,
      "outputs": []
    }
  ]
}