{
  "nbformat": 4,
  "nbformat_minor": 0,
  "metadata": {
    "colab": {
      "name": "Untitled2.ipynb",
      "provenance": [],
      "authorship_tag": "ABX9TyNWIk7eTZmv1eFM6L9r/VGE",
      "include_colab_link": true
    },
    "kernelspec": {
      "name": "python3",
      "display_name": "Python 3"
    }
  },
  "cells": [
    {
      "cell_type": "markdown",
      "metadata": {
        "id": "view-in-github",
        "colab_type": "text"
      },
      "source": [
        "<a href=\"https://colab.research.google.com/github/raykipa/python_projects/blob/master/Generators%20homework%20solutions.ipynb\" target=\"_parent\"><img src=\"https://colab.research.google.com/assets/colab-badge.svg\" alt=\"Open In Colab\"/></a>"
      ]
    },
    {
      "cell_type": "markdown",
      "metadata": {
        "id": "l_LQxHYyES7e",
        "colab_type": "text"
      },
      "source": [
        "Generator homework\n"
      ]
    },
    {
      "cell_type": "code",
      "metadata": {
        "id": "KsbcFBp-ETIY",
        "colab_type": "code",
        "colab": {}
      },
      "source": [
        "#Create a function which returns the square of the numbers in a range\n",
        "\n",
        "def create_square (n):\n",
        "  for x in range(n):\n",
        "    yield x**2"
      ],
      "execution_count": 0,
      "outputs": []
    },
    {
      "cell_type": "code",
      "metadata": {
        "id": "TL0jO_-0FBwc",
        "colab_type": "code",
        "colab": {
          "base_uri": "https://localhost:8080/",
          "height": 199
        },
        "outputId": "3a32d0e8-1bb9-4f6f-852d-06c5ff37bedd"
      },
      "source": [
        "for number in create_square(10):\n",
        "  print(number)"
      ],
      "execution_count": 16,
      "outputs": [
        {
          "output_type": "stream",
          "text": [
            "0\n",
            "1\n",
            "4\n",
            "9\n",
            "16\n",
            "25\n",
            "36\n",
            "49\n",
            "64\n",
            "81\n"
          ],
          "name": "stdout"
        }
      ]
    },
    {
      "cell_type": "code",
      "metadata": {
        "id": "vaTlW0eXFIc0",
        "colab_type": "code",
        "colab": {}
      },
      "source": [
        "#A generator that yields \"n\" random numbers between a low and high number (that are inputs)\n",
        "import random"
      ],
      "execution_count": 0,
      "outputs": []
    },
    {
      "cell_type": "code",
      "metadata": {
        "id": "ZpC_yo31FfbT",
        "colab_type": "code",
        "colab": {}
      },
      "source": [
        "\n",
        "def rand_num(low,high,n):\n",
        "  for i in range (n):\n",
        "    yield random.randint(low,high)\n"
      ],
      "execution_count": 0,
      "outputs": []
    },
    {
      "cell_type": "code",
      "metadata": {
        "id": "nhtiI6HMGCCx",
        "colab_type": "code",
        "colab": {
          "base_uri": "https://localhost:8080/",
          "height": 199
        },
        "outputId": "41892c87-28af-433e-b316-f7248301fcf3"
      },
      "source": [
        "for number in rand_num(1,10,10):\n",
        "  print(number)"
      ],
      "execution_count": 19,
      "outputs": [
        {
          "output_type": "stream",
          "text": [
            "3\n",
            "4\n",
            "1\n",
            "10\n",
            "1\n",
            "8\n",
            "9\n",
            "8\n",
            "1\n",
            "2\n"
          ],
          "name": "stdout"
        }
      ]
    },
    {
      "cell_type": "code",
      "metadata": {
        "id": "3QsleWZpGOtY",
        "colab_type": "code",
        "colab": {}
      },
      "source": [
        "#Use the iter() function to convert the string below into an iterator:\n",
        "s= 'hello'\n",
        "s_iter=iter(s)"
      ],
      "execution_count": 0,
      "outputs": []
    },
    {
      "cell_type": "code",
      "metadata": {
        "id": "yR1iLeZtGnfx",
        "colab_type": "code",
        "colab": {
          "base_uri": "https://localhost:8080/",
          "height": 35
        },
        "outputId": "85aebc52-5fe2-4bcf-a2f6-0c50e3065be2"
      },
      "source": [
        "next(s_iter)"
      ],
      "execution_count": 21,
      "outputs": [
        {
          "output_type": "execute_result",
          "data": {
            "text/plain": [
              "'h'"
            ]
          },
          "metadata": {
            "tags": []
          },
          "execution_count": 21
        }
      ]
    },
    {
      "cell_type": "code",
      "metadata": {
        "id": "McKCaozOGs4P",
        "colab_type": "code",
        "colab": {
          "base_uri": "https://localhost:8080/",
          "height": 35
        },
        "outputId": "140d0133-006f-427a-9d17-4c5917734975"
      },
      "source": [
        "next(s_iter)"
      ],
      "execution_count": 22,
      "outputs": [
        {
          "output_type": "execute_result",
          "data": {
            "text/plain": [
              "'e'"
            ]
          },
          "metadata": {
            "tags": []
          },
          "execution_count": 22
        }
      ]
    },
    {
      "cell_type": "code",
      "metadata": {
        "id": "Izgh8iX8Gu-n",
        "colab_type": "code",
        "colab": {}
      },
      "source": [
        "#Explain a use case for a generator using a yield statement where you would not want to use a normal function with a return statement."
      ],
      "execution_count": 0,
      "outputs": []
    },
    {
      "cell_type": "code",
      "metadata": {
        "id": "HLgTY78TG_TN",
        "colab_type": "code",
        "colab": {}
      },
      "source": [
        ""
      ],
      "execution_count": 0,
      "outputs": []
    }
  ]
}